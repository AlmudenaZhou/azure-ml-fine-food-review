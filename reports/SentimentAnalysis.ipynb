{
 "cells": [
  {
   "cell_type": "code",
   "execution_count": 1,
   "id": "ef5eba50",
   "metadata": {},
   "outputs": [
    {
     "name": "stderr",
     "output_type": "stream",
     "text": [
      "[nltk_data] Downloading package vader_lexicon to\n",
      "[nltk_data]     C:\\Users\\a.ramirez.lopez\\AppData\\Roaming\\nltk_data...\n",
      "[nltk_data]   Package vader_lexicon is already up-to-date!\n"
     ]
    },
    {
     "data": {
      "text/plain": [
       "True"
      ]
     },
     "execution_count": 1,
     "metadata": {},
     "output_type": "execute_result"
    }
   ],
   "source": [
    "import pandas as pd\n",
    "import matplotlib.pyplot as plt\n",
    "import seaborn as sns\n",
    "import nltk\n",
    "from nltk.sentiment import SentimentIntensityAnalyzer\n",
    "%matplotlib inline\n",
    "\n",
    "nltk.download('vader_lexicon')"
   ]
  },
  {
   "cell_type": "markdown",
   "id": "00717033",
   "metadata": {},
   "source": [
    "# Sentiment Analysis"
   ]
  },
  {
   "cell_type": "markdown",
   "id": "205d2d65",
   "metadata": {},
   "source": [
    "This notebook utilizes the NLTK sentiment analysis model as a supporting tool for a proprietary model. The primary purpose is to test saving the model and evaluate the predictions it generates.\n",
    "\n",
    "This step is part of a larger process aimed at identifying mismatches in the data. The NLTK model is intended to complement the proprietary model, creating an ensemble of the two. A prior phase would involve examining whether the models mismatch the same examples to assess their independence. Additionally, the focus would be on cases where both models produce mismatches, evaluating whether the errors align with human judgment or if both models are incorrect."
   ]
  },
  {
   "cell_type": "code",
   "execution_count": 2,
   "id": "8a1522e5",
   "metadata": {},
   "outputs": [],
   "source": [
    "data = pd.read_csv('../data/processed_text_with_all.csv')\n",
    "data = data.dropna()"
   ]
  },
  {
   "cell_type": "code",
   "execution_count": 3,
   "id": "a785ab35",
   "metadata": {},
   "outputs": [],
   "source": [
    "sid = SentimentIntensityAnalyzer()\n",
    "\n",
    "# Define a function to analyze polarity\n",
    "def analyze_polarity(text):\n",
    "    sentiment_score = sid.polarity_scores(text)['compound']\n",
    "    return sentiment_score\n",
    "\n",
    "# Add a polarity column to the copied DataFrame\n",
    "data['Polarity'] = data['Text'].apply(analyze_polarity)"
   ]
  },
  {
   "cell_type": "code",
   "execution_count": 4,
   "id": "e0e9a1b9",
   "metadata": {},
   "outputs": [],
   "source": [
    "def classify_sentiment(polarity):\n",
    "    if polarity >= 0.5:\n",
    "        return 'Positive'\n",
    "    elif polarity <= -0.5:\n",
    "        return 'Negative'\n",
    "    else:\n",
    "        return 'Neutral'\n",
    "\n",
    "# Apply the function to create the new column\n",
    "data['Sentiment'] = data['Polarity'].apply(classify_sentiment)"
   ]
  },
  {
   "cell_type": "code",
   "execution_count": 5,
   "id": "dd92d651",
   "metadata": {},
   "outputs": [],
   "source": [
    "data.to_csv('../data/df_with_polarity.csv', index=False)"
   ]
  },
  {
   "cell_type": "markdown",
   "id": "2bc014a3",
   "metadata": {},
   "source": [
    "Preloaded dataset with the polarities which already computed"
   ]
  },
  {
   "cell_type": "code",
   "execution_count": 6,
   "id": "0a9f86c4",
   "metadata": {},
   "outputs": [],
   "source": [
    "df_withpola = pd.read_csv('../data/df_with_polarity.csv')"
   ]
  },
  {
   "cell_type": "code",
   "execution_count": 7,
   "id": "1538ca67",
   "metadata": {},
   "outputs": [],
   "source": [
    "df_withpola['Sentiment'] = df_withpola['Polarity'].apply(classify_sentiment)"
   ]
  },
  {
   "cell_type": "markdown",
   "id": "d73f7d1c",
   "metadata": {},
   "source": [
    "## Sentiment distribution"
   ]
  },
  {
   "cell_type": "code",
   "execution_count": 8,
   "id": "71303396",
   "metadata": {},
   "outputs": [
    {
     "name": "stderr",
     "output_type": "stream",
     "text": [
      "C:\\Users\\a.ramirez.lopez\\AppData\\Local\\Temp\\ipykernel_2464\\649494165.py:2: FutureWarning: \n",
      "\n",
      "Passing `palette` without assigning `hue` is deprecated and will be removed in v0.14.0. Assign the `x` variable to `hue` and set `legend=False` for the same effect.\n",
      "\n",
      "  sns.countplot(x='Sentiment', data=df_withpola, palette='Set2')\n"
     ]
    },
    {
     "data": {
      "image/png": "[encoded data removed]",
      "text/plain": [
       "<Figure size 800x600 with 1 Axes>"
      ]
     },
     "metadata": {},
     "output_type": "display_data"
    }
   ],
   "source": [
    "plt.figure(figsize=(8, 6))\n",
    "sns.countplot(x='Sentiment', data=df_withpola, palette='Set2')\n",
    "plt.xlabel('Sentiment')\n",
    "plt.ylabel('Count')\n",
    "plt.title('Distribution of Sentiment Classes')\n",
    "plt.show()"
   ]
  },
  {
   "cell_type": "markdown",
   "id": "fdb2cf2d",
   "metadata": {},
   "source": [
    "Using the polarity, negative sentiments with positive labels and viceversa can be checked to flag inconsistencies.\n"
   ]
  },
  {
   "cell_type": "code",
   "execution_count": 12,
   "id": "97602afe",
   "metadata": {},
   "outputs": [
    {
     "data": {
      "text/plain": [
       "0.016383395081408517"
      ]
     },
     "execution_count": 12,
     "metadata": {},
     "output_type": "execute_result"
    }
   ],
   "source": [
    "negative_sentiments = df_withpola[(df_withpola['Labels'] == 1) & (df_withpola['Sentiment'] == 'Negative')]\n",
    "negative_sentiments.shape[0] / df_withpola.shape[0]"
   ]
  },
  {
   "cell_type": "code",
   "execution_count": 13,
   "id": "8c910b80",
   "metadata": {},
   "outputs": [
    {
     "data": {
      "text/plain": [
       "0.06156484647266411"
      ]
     },
     "execution_count": 13,
     "metadata": {},
     "output_type": "execute_result"
    }
   ],
   "source": [
    "positive_sentiments = df_withpola[(df_withpola['Labels'] == 0) & (df_withpola['Sentiment'] == 'Positive')]\n",
    "positive_sentiments.shape[0] / df_withpola.shape[0]"
   ]
  },
  {
   "cell_type": "markdown",
   "id": "c509c269",
   "metadata": {},
   "source": [
    "### Here we have individiated potential mismatches in the data : \n",
    "- 1.6% data samples have a positive score but the sentiment analysis model detected a negative sentiment\n",
    "- 6.1% data samples have a negative score but the sentiment analysis model detected a positive sentiment"
   ]
  }
 ],
 "metadata": {
  "kernelspec": {
   "display_name": ".venv",
   "language": "python",
   "name": "python3"
  },
  "language_info": {
   "codemirror_mode": {
    "name": "ipython",
    "version": 3
   },
   "file_extension": ".py",
   "mimetype": "text/x-python",
   "name": "python",
   "nbconvert_exporter": "python",
   "pygments_lexer": "ipython3",
   "version": "3.11.9"
  }
 },
 "nbformat": 4,
 "nbformat_minor": 5
}
